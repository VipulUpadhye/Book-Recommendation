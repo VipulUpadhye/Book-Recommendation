{
 "cells": [
  {
   "cell_type": "markdown",
   "metadata": {
    "dc": {
     "key": "3"
    },
    "deletable": false,
    "editable": false,
    "run_control": {
     "frozen": true
    },
    "tags": [
     "context"
    ]
   },
   "source": [
    "## 1. Darwin's bibliography\n",
    "<p><img src=\"https://assets.datacamp.com/production/project_607/img/CharlesDarwin.jpg\" alt=\"Charles Darwin\" width=\"300px\"></p>\n",
    "<p>Charles Darwin is one of the few universal figures of science. His most renowned work is without a doubt his \"<em>On the Origin of Species</em>\" published in 1859 which introduced the concept of natural selection. But Darwin wrote many other books on a wide range of topics, including geology, plants or his personal life. In this notebook, we will automatically detect how closely related his books are to each other.</p>\n",
    "<p>To this purpose, we will develop the bases of <strong>a content-based book recommendation system</strong>, which will determine which books are close to each other based on how similar the discussed topics are. The methods we will use are commonly used in text- or documents-heavy industries such as legal, tech or customer support to perform some common task such as text classification or handling search engine queries.</p>\n",
    "<p>Let's take a look at the books we'll use in our recommendation system.</p>"
   ]
  },
  {
   "cell_type": "code",
   "execution_count": 1,
   "metadata": {
    "dc": {
     "key": "3"
    },
    "tags": [
     "sample_code"
    ]
   },
   "outputs": [
    {
     "data": {
      "text/plain": [
       "['datasets/Autobiography.txt',\n",
       " 'datasets/CoralReefs.txt',\n",
       " 'datasets/DescentofMan.txt',\n",
       " 'datasets/DifferentFormsofFlowers.txt',\n",
       " 'datasets/EffectsCrossSelfFertilization.txt',\n",
       " 'datasets/ExpressionofEmotionManAnimals.txt',\n",
       " 'datasets/FormationVegetableMould.txt',\n",
       " 'datasets/FoundationsOriginofSpecies.txt',\n",
       " 'datasets/GeologicalObservationsSouthAmerica.txt',\n",
       " 'datasets/InsectivorousPlants.txt',\n",
       " 'datasets/LifeandLettersVol1.txt',\n",
       " 'datasets/LifeandLettersVol2.txt',\n",
       " 'datasets/MonographCirripedia.txt',\n",
       " 'datasets/MonographCirripediaVol2.txt',\n",
       " 'datasets/MovementClimbingPlants.txt',\n",
       " 'datasets/OriginofSpecies.txt',\n",
       " 'datasets/PowerMovementPlants.txt',\n",
       " 'datasets/VariationPlantsAnimalsDomestication.txt',\n",
       " 'datasets/VolcanicIslands.txt',\n",
       " 'datasets/VoyageBeagle.txt']"
      ]
     },
     "execution_count": 1,
     "metadata": {},
     "output_type": "execute_result"
    }
   ],
   "source": [
    "# Import library\n",
    "import glob\n",
    "\n",
    "# The books files are contained in this folder\n",
    "folder = \"datasets/\"\n",
    "\n",
    "# List all the .txt files and sort them alphabetically\n",
    "files = glob.glob(folder + '*.txt', recursive=True)\n",
    "files.sort()\n",
    "files"
   ]
  },
  {
   "cell_type": "markdown",
   "metadata": {
    "dc": {
     "key": "10"
    },
    "deletable": false,
    "editable": false,
    "run_control": {
     "frozen": true
    },
    "tags": [
     "context"
    ]
   },
   "source": [
    "## 2. Load the contents of each book into Python\n",
    "<p>As a first step, we need to load the content of these books into Python and do some basic pre-processing to facilitate the downstream analyses. We call such a collection of texts <strong>a corpus</strong>. We will also store the titles for these books for future reference and print their respective length to get a gauge for their contents.</p>"
   ]
  },
  {
   "cell_type": "code",
   "execution_count": 2,
   "metadata": {
    "dc": {
     "key": "10"
    },
    "tags": [
     "sample_code"
    ]
   },
   "outputs": [
    {
     "data": {
      "text/plain": [
       "[123231,\n",
       " 496068,\n",
       " 1776539,\n",
       " 617088,\n",
       " 913713,\n",
       " 624232,\n",
       " 335920,\n",
       " 523021,\n",
       " 797401,\n",
       " 901406,\n",
       " 1047518,\n",
       " 1010643,\n",
       " 767492,\n",
       " 1660866,\n",
       " 298319,\n",
       " 916267,\n",
       " 1093567,\n",
       " 1043499,\n",
       " 341447,\n",
       " 1149574]"
      ]
     },
     "execution_count": 2,
     "metadata": {},
     "output_type": "execute_result"
    }
   ],
   "source": [
    "# Import libraries\n",
    "import re, os\n",
    "\n",
    "# Initialize the object that will contain the texts and titles\n",
    "txts = []\n",
    "titles = []\n",
    "\n",
    "for n in files:\n",
    "    # Open each file\n",
    "    f = open(n, encoding='utf-8-sig')\n",
    "    # Remove all non-alpha-numeric characters\n",
    "    text = re.sub('[\\W_]+', ' ', f.read())\n",
    "    # Store the texts and titles of the books in two separate lists\n",
    "    txts.append(text)\n",
    "    titles.append(os.path.basename(n).replace('.txt', ''))\n",
    "\n",
    "# Print the length, in characters, of each book\n",
    "[len(t) for t in txts]"
   ]
  },
  {
   "cell_type": "markdown",
   "metadata": {
    "dc": {
     "key": "17"
    },
    "deletable": false,
    "editable": false,
    "run_control": {
     "frozen": true
    },
    "tags": [
     "context"
    ]
   },
   "source": [
    "## 3. Find \"On the Origin of Species\"\n",
    "<p>For the next parts of this analysis, we will often check the results returned by our method for a given book. For consistency, we will refer to Darwin's most famous book: \"<em>On the Origin of Species</em>.\" Let's find to which index this book is associated.</p>"
   ]
  },
  {
   "cell_type": "code",
   "execution_count": 3,
   "metadata": {
    "dc": {
     "key": "17"
    },
    "tags": [
     "sample_code"
    ]
   },
   "outputs": [
    {
     "name": "stdout",
     "output_type": "stream",
     "text": [
      "15\n"
     ]
    }
   ],
   "source": [
    "# Browse the list containing all the titles\n",
    "for i in range(len(titles)):\n",
    "    # Store the index if the title is \"OriginofSpecies\"\n",
    "    if titles[i]==\"OriginofSpecies\":\n",
    "        ori = i\n",
    "        break\n",
    "\n",
    "# Print the stored index\n",
    "print(ori)"
   ]
  },
  {
   "cell_type": "markdown",
   "metadata": {
    "dc": {
     "key": "24"
    },
    "deletable": false,
    "editable": false,
    "run_control": {
     "frozen": true
    },
    "tags": [
     "context"
    ]
   },
   "source": [
    "## 4. Tokenize the corpus\n",
    "<p>As a next step, we need to transform the corpus into a format that is easier to deal with for the downstream analyses. We will tokenize our corpus, i.e., transform each text into a list of the individual words (called tokens) it is made of. To check the output of our process, we will print the first 20 tokens of \"<em>On the Origin of Species</em>\".</p>"
   ]
  },
  {
   "cell_type": "code",
   "execution_count": 4,
   "metadata": {
    "dc": {
     "key": "24"
    },
    "tags": [
     "sample_code"
    ]
   },
   "outputs": [
    {
     "name": "stdout",
     "output_type": "stream",
     "text": [
      "['on', 'origin', 'species', 'but', 'with', 'regard', 'material', 'world', 'can', 'least', 'go', 'so', 'far', 'this', 'can', 'perceive', 'events', 'are', 'brought', 'about']\n"
     ]
    }
   ],
   "source": [
    "# Define a list of stop words\n",
    "stoplist = set('for a of the and to in to be which some is at that we i who whom show via may my our might as well'.split())\n",
    "\n",
    "# Convert the text to lower case \n",
    "txts_lower_case = [txt.lower() for txt in txts]\n",
    "\n",
    "# Transform the text into tokens \n",
    "txts_split = [txt.split() for txt in txts_lower_case] \n",
    "\n",
    "# Remove tokens which are part of the list of stop words\n",
    "texts = [[token for token in txt if token not in stoplist] for txt in txts_split]\n",
    "\n",
    "# Print the first 20 tokens for the \"On the Origin of Species\" book\n",
    "print(texts[ori][:20])"
   ]
  },
  {
   "cell_type": "markdown",
   "metadata": {
    "dc": {
     "key": "31"
    },
    "deletable": false,
    "editable": false,
    "run_control": {
     "frozen": true
    },
    "tags": [
     "context"
    ]
   },
   "source": [
    "## 5. Stemming of the tokenized corpus\n",
    "<p>If you have read <em>On the Origin of Species</em>, you will have noticed that Charles Darwin can use different words to refer to a similar concept. For example, the concept of selection can be described by words such as <em>selection</em>, <em>selective</em>, <em>select</em> or <em>selects</em>. This will dilute the weight given to this concept in the book and potentially bias the results of the analysis.</p>\n",
    "<p>To solve this issue, it is a common practice to use a <strong>stemming process</strong>, which will group together the inflected forms of a word so they can be analysed as a single item: <strong>the stem</strong>. In our <em>On the Origin of Species</em> example, the words related to the concept of selection would be gathered under the <em>select</em> stem.</p>\n",
    "<p>As we are analysing 20 full books, the stemming algorithm can take several minutes to run and, in order to make the process faster, we will directly load the final results from a pickle file and review the method used to generate it.</p>"
   ]
  },
  {
   "cell_type": "code",
   "execution_count": 5,
   "metadata": {
    "dc": {
     "key": "31"
    },
    "tags": [
     "sample_code"
    ]
   },
   "outputs": [
    {
     "data": {
      "text/plain": [
       "['on',\n",
       " 'origin',\n",
       " 'speci',\n",
       " 'but',\n",
       " 'with',\n",
       " 'regard',\n",
       " 'materi',\n",
       " 'world',\n",
       " 'can',\n",
       " 'least',\n",
       " 'go',\n",
       " 'so',\n",
       " 'far',\n",
       " 'thi',\n",
       " 'can',\n",
       " 'perceiv',\n",
       " 'event',\n",
       " 'are',\n",
       " 'brought',\n",
       " 'about']"
      ]
     },
     "execution_count": 5,
     "metadata": {},
     "output_type": "execute_result"
    }
   ],
   "source": [
    "import pickle\n",
    "\n",
    "# Load the stemmed tokens list from the pregenerated pickle file\n",
    "texts_stem = pickle.load(open('datasets/texts_stem.p', 'rb'))\n",
    "\n",
    "# Print the 20 first stemmed tokens from the \"On the Origin of Species\" book\n",
    "texts_stem[ori][:20]"
   ]
  },
  {
   "cell_type": "markdown",
   "metadata": {
    "dc": {
     "key": "38"
    },
    "deletable": false,
    "editable": false,
    "run_control": {
     "frozen": true
    },
    "tags": [
     "context"
    ]
   },
   "source": [
    "## 6. Building a bag-of-words model\n",
    "<p>Now that we have transformed the texts into stemmed tokens, we need to build models that will be useable by downstream algorithms.</p>\n",
    "<p>First, we need to will create a universe of all words contained in our corpus of Charles Darwin's books, which we call <em>a dictionary</em>. Then, using the stemmed tokens and the dictionary, we will create <strong>bag-of-words models</strong> (BoW) of each of our texts. The BoW models will represent our books as a list of all uniques tokens they contain associated with their respective number of occurrences. </p>\n",
    "<p>To better understand the structure of such a model, we will print the five first elements of one of the \"<em>On the Origin of Species</em>\" BoW model.</p>"
   ]
  },
  {
   "cell_type": "code",
   "execution_count": 6,
   "metadata": {
    "dc": {
     "key": "38"
    },
    "tags": [
     "sample_code"
    ]
   },
   "outputs": [
    {
     "data": {
      "text/plain": [
       "[(0, 11), (5, 51), (6, 1), (8, 2), (21, 1)]"
      ]
     },
     "execution_count": 6,
     "metadata": {},
     "output_type": "execute_result"
    }
   ],
   "source": [
    "# Load the functions allowing to create and use dictionaries\n",
    "from gensim import corpora\n",
    "\n",
    "# Create a dictionary from the stemmed tokens\n",
    "dictionary = corpora.Dictionary(texts_stem)\n",
    "\n",
    "# Create a bag-of-words model for each book, using the previously generated dictionary\n",
    "bows = [dictionary.doc2bow(text) for text in texts_stem]\n",
    "\n",
    "# Print the first five elements of the On the Origin of species' BoW model\n",
    "bows[ori][:5]"
   ]
  },
  {
   "cell_type": "markdown",
   "metadata": {
    "dc": {
     "key": "45"
    },
    "deletable": false,
    "editable": false,
    "run_control": {
     "frozen": true
    },
    "tags": [
     "context"
    ]
   },
   "source": [
    "## 7. The most common words of a given book\n",
    "<p>The results returned by the bag-of-words model is certainly easy to use for a computer but hard to interpret for a human. It is not straightforward to understand which stemmed tokens are present in a given book from Charles Darwin, and how many occurrences we can find.</p>\n",
    "<p>In order to better understand how the model has been generated and visualize its content, we will transform it into a DataFrame and display the 10 most common stems for the book \"<em>On the Origin of Species</em>\".</p>"
   ]
  },
  {
   "cell_type": "code",
   "execution_count": 7,
   "metadata": {
    "dc": {
     "key": "45"
    },
    "tags": [
     "sample_code"
    ]
   },
   "outputs": [
    {
     "data": {
      "text/html": [
       "<div>\n",
       "<style>\n",
       "    .dataframe thead tr:only-child th {\n",
       "        text-align: right;\n",
       "    }\n",
       "\n",
       "    .dataframe thead th {\n",
       "        text-align: left;\n",
       "    }\n",
       "\n",
       "    .dataframe tbody tr th {\n",
       "        vertical-align: top;\n",
       "    }\n",
       "</style>\n",
       "<table border=\"1\" class=\"dataframe\">\n",
       "  <thead>\n",
       "    <tr style=\"text-align: right;\">\n",
       "      <th></th>\n",
       "      <th>index</th>\n",
       "      <th>occurrences</th>\n",
       "      <th>token</th>\n",
       "    </tr>\n",
       "  </thead>\n",
       "  <tbody>\n",
       "    <tr>\n",
       "      <th>748</th>\n",
       "      <td>1168</td>\n",
       "      <td>2023</td>\n",
       "      <td>have</td>\n",
       "    </tr>\n",
       "    <tr>\n",
       "      <th>1119</th>\n",
       "      <td>1736</td>\n",
       "      <td>1558</td>\n",
       "      <td>on</td>\n",
       "    </tr>\n",
       "    <tr>\n",
       "      <th>1489</th>\n",
       "      <td>2288</td>\n",
       "      <td>1543</td>\n",
       "      <td>speci</td>\n",
       "    </tr>\n",
       "    <tr>\n",
       "      <th>892</th>\n",
       "      <td>1366</td>\n",
       "      <td>1480</td>\n",
       "      <td>it</td>\n",
       "    </tr>\n",
       "    <tr>\n",
       "      <th>239</th>\n",
       "      <td>393</td>\n",
       "      <td>1362</td>\n",
       "      <td>by</td>\n",
       "    </tr>\n",
       "    <tr>\n",
       "      <th>1128</th>\n",
       "      <td>1747</td>\n",
       "      <td>1201</td>\n",
       "      <td>or</td>\n",
       "    </tr>\n",
       "    <tr>\n",
       "      <th>125</th>\n",
       "      <td>218</td>\n",
       "      <td>1140</td>\n",
       "      <td>are</td>\n",
       "    </tr>\n",
       "    <tr>\n",
       "      <th>665</th>\n",
       "      <td>1043</td>\n",
       "      <td>1137</td>\n",
       "      <td>from</td>\n",
       "    </tr>\n",
       "    <tr>\n",
       "      <th>1774</th>\n",
       "      <td>2703</td>\n",
       "      <td>1000</td>\n",
       "      <td>with</td>\n",
       "    </tr>\n",
       "    <tr>\n",
       "      <th>1609</th>\n",
       "      <td>2452</td>\n",
       "      <td>962</td>\n",
       "      <td>thi</td>\n",
       "    </tr>\n",
       "  </tbody>\n",
       "</table>\n",
       "</div>"
      ],
      "text/plain": [
       "      index  occurrences  token\n",
       "748    1168         2023   have\n",
       "1119   1736         1558     on\n",
       "1489   2288         1543  speci\n",
       "892    1366         1480     it\n",
       "239     393         1362     by\n",
       "1128   1747         1201     or\n",
       "125     218         1140    are\n",
       "665    1043         1137   from\n",
       "1774   2703         1000   with\n",
       "1609   2452          962    thi"
      ]
     },
     "execution_count": 7,
     "metadata": {},
     "output_type": "execute_result"
    }
   ],
   "source": [
    "# Import pandas to create and manipulate DataFrames\n",
    "import pandas as pd\n",
    "\n",
    "# Convert the BoW model for \"On the Origin of Species\" into a DataFrame\n",
    "df_bow_origin = pd.DataFrame(bows[ori])\n",
    "\n",
    "# Add the column names to the DataFrame\n",
    "df_bow_origin.columns=['index', 'occurrences']\n",
    "\n",
    "# Add a column containing the token corresponding to the dictionary index\n",
    "df_bow_origin['token'] = df_bow_origin['index'].apply(lambda x: dictionary[x])\n",
    "\n",
    "# Sort the DataFrame by descending number of occurrences and print the first 10 values\n",
    "df_bow_origin.sort_values(by='occurrences', ascending=False, inplace=True)\n",
    "df_bow_origin.head(10)"
   ]
  },
  {
   "cell_type": "markdown",
   "metadata": {
    "dc": {
     "key": "52"
    },
    "deletable": false,
    "editable": false,
    "run_control": {
     "frozen": true
    },
    "tags": [
     "context"
    ]
   },
   "source": [
    "## 8. Build a tf-idf model\n",
    "<p>If it wasn't for the presence of the stem \"<em>speci</em>\", we would have a hard time to guess this BoW model comes from the <em>On the Origin of Species</em> book. The most recurring words are, apart from few exceptions, very common and unlikely to carry any information peculiar to the given book. We need to use an additional step in order to determine which tokens are the most specific to a book.</p>\n",
    "<p>To do so, we will use a <strong>tf-idf model</strong> (term frequency–inverse document frequency). This model defines the importance of each word depending on how frequent it is in this text and how infrequent it is in all the other documents. As a result, a high tf-idf score for a word will indicate that this word is specific to this text.</p>\n",
    "<p>After computing those scores, we will print the 10 words most specific to the \"<em>On the Origin of Species</em>\" book (i.e., the 10 words with the highest tf-idf score).</p>"
   ]
  },
  {
   "cell_type": "code",
   "execution_count": 15,
   "metadata": {
    "dc": {
     "key": "52"
    },
    "tags": [
     "sample_code"
    ]
   },
   "outputs": [
    {
     "data": {
      "text/plain": [
       "[(8, 0.05866486502447224),\n",
       " (21, 0.1645130240887821),\n",
       " (23, 0.4926925035555168),\n",
       " (27, 0.18587519434553504),\n",
       " (28, 0.7390387553332751),\n",
       " (31, 0.2463462517777584),\n",
       " (35, 0.29211923924062844)]"
      ]
     },
     "execution_count": 15,
     "metadata": {},
     "output_type": "execute_result"
    }
   ],
   "source": [
    "# Load the gensim functions that will allow us to generate tf-idf models\n",
    "from gensim.models import TfidfModel\n",
    "\n",
    "# Generate the tf-idf model\n",
    "model = TfidfModel(bows)\n",
    "\n",
    "# Print the model for \"On the Origin of Species\"\n",
    "model[bows[ori][:10]]"
   ]
  },
  {
   "cell_type": "markdown",
   "metadata": {
    "dc": {
     "key": "59"
    },
    "deletable": false,
    "editable": false,
    "run_control": {
     "frozen": true
    },
    "tags": [
     "context"
    ]
   },
   "source": [
    "## 9. The results of the tf-idf model\n",
    "<p>Once again, the format of those results is hard to interpret for a human. Therefore, we will transform it into a more readable version and display the 10 most specific words for the \"<em>On the Origin of Species</em>\" book.</p>"
   ]
  },
  {
   "cell_type": "code",
   "execution_count": 9,
   "metadata": {
    "dc": {
     "key": "59"
    },
    "tags": [
     "sample_code"
    ]
   },
   "outputs": [
    {
     "data": {
      "text/html": [
       "<div>\n",
       "<style>\n",
       "    .dataframe thead tr:only-child th {\n",
       "        text-align: right;\n",
       "    }\n",
       "\n",
       "    .dataframe thead th {\n",
       "        text-align: left;\n",
       "    }\n",
       "\n",
       "    .dataframe tbody tr th {\n",
       "        vertical-align: top;\n",
       "    }\n",
       "</style>\n",
       "<table border=\"1\" class=\"dataframe\">\n",
       "  <thead>\n",
       "    <tr style=\"text-align: right;\">\n",
       "      <th></th>\n",
       "      <th>id</th>\n",
       "      <th>score</th>\n",
       "      <th>token</th>\n",
       "    </tr>\n",
       "  </thead>\n",
       "  <tbody>\n",
       "    <tr>\n",
       "      <th>878</th>\n",
       "      <td>2164</td>\n",
       "      <td>0.327414</td>\n",
       "      <td>select</td>\n",
       "    </tr>\n",
       "    <tr>\n",
       "      <th>3106</th>\n",
       "      <td>10108</td>\n",
       "      <td>0.203908</td>\n",
       "      <td>pigeon</td>\n",
       "    </tr>\n",
       "    <tr>\n",
       "      <th>128</th>\n",
       "      <td>369</td>\n",
       "      <td>0.197721</td>\n",
       "      <td>breed</td>\n",
       "    </tr>\n",
       "    <tr>\n",
       "      <th>2988</th>\n",
       "      <td>9396</td>\n",
       "      <td>0.167496</td>\n",
       "      <td>migrat</td>\n",
       "    </tr>\n",
       "    <tr>\n",
       "      <th>945</th>\n",
       "      <td>2325</td>\n",
       "      <td>0.148186</td>\n",
       "      <td>steril</td>\n",
       "    </tr>\n",
       "    <tr>\n",
       "      <th>284</th>\n",
       "      <td>752</td>\n",
       "      <td>0.145990</td>\n",
       "      <td>domest</td>\n",
       "    </tr>\n",
       "    <tr>\n",
       "      <th>503</th>\n",
       "      <td>1255</td>\n",
       "      <td>0.128272</td>\n",
       "      <td>hybrid</td>\n",
       "    </tr>\n",
       "    <tr>\n",
       "      <th>370</th>\n",
       "      <td>966</td>\n",
       "      <td>0.127534</td>\n",
       "      <td>fertil</td>\n",
       "    </tr>\n",
       "    <tr>\n",
       "      <th>3889</th>\n",
       "      <td>16210</td>\n",
       "      <td>0.124392</td>\n",
       "      <td>rtner</td>\n",
       "    </tr>\n",
       "    <tr>\n",
       "      <th>3540</th>\n",
       "      <td>12715</td>\n",
       "      <td>0.121197</td>\n",
       "      <td>naturalis</td>\n",
       "    </tr>\n",
       "  </tbody>\n",
       "</table>\n",
       "</div>"
      ],
      "text/plain": [
       "         id     score      token\n",
       "878    2164  0.327414     select\n",
       "3106  10108  0.203908     pigeon\n",
       "128     369  0.197721      breed\n",
       "2988   9396  0.167496     migrat\n",
       "945    2325  0.148186     steril\n",
       "284     752  0.145990     domest\n",
       "503    1255  0.128272     hybrid\n",
       "370     966  0.127534     fertil\n",
       "3889  16210  0.124392      rtner\n",
       "3540  12715  0.121197  naturalis"
      ]
     },
     "execution_count": 9,
     "metadata": {},
     "output_type": "execute_result"
    }
   ],
   "source": [
    "# Convert the tf-idf model for \"On the Origin of Species\" into a DataFrame\n",
    "df_tfidf = pd.DataFrame(model[bows[ori]])\n",
    "\n",
    "# Name the columns of the DataFrame id and score\n",
    "df_tfidf.columns=['id', 'score']\n",
    "\n",
    "# Add the tokens corresponding to the numerical indices for better readability\n",
    "df_tfidf['token'] = df_tfidf['id'].apply(lambda x: dictionary[x])\n",
    "\n",
    "# Sort the DataFrame by descending tf-idf score and print the first 10 rows.\n",
    "df_tfidf.sort_values(by='score', ascending=False, inplace=True)\n",
    "df_tfidf.head(10)"
   ]
  },
  {
   "cell_type": "markdown",
   "metadata": {
    "dc": {
     "key": "66"
    },
    "deletable": false,
    "editable": false,
    "run_control": {
     "frozen": true
    },
    "tags": [
     "context"
    ]
   },
   "source": [
    "## 10. Compute distance between texts\n",
    "<p>The results of the tf-idf algorithm now return stemmed tokens which are specific to each book. We can, for example, see that topics such as selection, breeding or domestication are defining \"<em>On the Origin of Species</em>\" (and yes, in this book, Charles Darwin talks quite a lot about pigeons too). Now that we have a model associating tokens to how specific they are to each book, we can measure how related to books are between each other.</p>\n",
    "<p>To this purpose, we will use a measure of similarity called <strong>cosine similarity</strong> and we will visualize the results as a distance matrix, i.e., a matrix showing all pairwise distances between Darwin's books.</p>"
   ]
  },
  {
   "cell_type": "code",
   "execution_count": 10,
   "metadata": {
    "dc": {
     "key": "66"
    },
    "tags": [
     "sample_code"
    ]
   },
   "outputs": [
    {
     "data": {
      "text/html": [
       "<div>\n",
       "<style>\n",
       "    .dataframe thead tr:only-child th {\n",
       "        text-align: right;\n",
       "    }\n",
       "\n",
       "    .dataframe thead th {\n",
       "        text-align: left;\n",
       "    }\n",
       "\n",
       "    .dataframe tbody tr th {\n",
       "        vertical-align: top;\n",
       "    }\n",
       "</style>\n",
       "<table border=\"1\" class=\"dataframe\">\n",
       "  <thead>\n",
       "    <tr style=\"text-align: right;\">\n",
       "      <th></th>\n",
       "      <th>Autobiography</th>\n",
       "      <th>CoralReefs</th>\n",
       "      <th>DescentofMan</th>\n",
       "      <th>DifferentFormsofFlowers</th>\n",
       "      <th>EffectsCrossSelfFertilization</th>\n",
       "      <th>ExpressionofEmotionManAnimals</th>\n",
       "      <th>FormationVegetableMould</th>\n",
       "      <th>FoundationsOriginofSpecies</th>\n",
       "      <th>GeologicalObservationsSouthAmerica</th>\n",
       "      <th>InsectivorousPlants</th>\n",
       "      <th>LifeandLettersVol1</th>\n",
       "      <th>LifeandLettersVol2</th>\n",
       "      <th>MonographCirripedia</th>\n",
       "      <th>MonographCirripediaVol2</th>\n",
       "      <th>MovementClimbingPlants</th>\n",
       "      <th>OriginofSpecies</th>\n",
       "      <th>PowerMovementPlants</th>\n",
       "      <th>VariationPlantsAnimalsDomestication</th>\n",
       "      <th>VolcanicIslands</th>\n",
       "      <th>VoyageBeagle</th>\n",
       "    </tr>\n",
       "  </thead>\n",
       "  <tbody>\n",
       "    <tr>\n",
       "      <th>Autobiography</th>\n",
       "      <td>1.000000</td>\n",
       "      <td>0.049467</td>\n",
       "      <td>0.080428</td>\n",
       "      <td>0.066482</td>\n",
       "      <td>0.077184</td>\n",
       "      <td>0.088723</td>\n",
       "      <td>0.040678</td>\n",
       "      <td>0.059271</td>\n",
       "      <td>0.030562</td>\n",
       "      <td>0.014878</td>\n",
       "      <td>0.396709</td>\n",
       "      <td>0.217129</td>\n",
       "      <td>0.005686</td>\n",
       "      <td>0.008483</td>\n",
       "      <td>0.022856</td>\n",
       "      <td>0.099991</td>\n",
       "      <td>0.016247</td>\n",
       "      <td>0.049018</td>\n",
       "      <td>0.038556</td>\n",
       "      <td>0.183507</td>\n",
       "    </tr>\n",
       "    <tr>\n",
       "      <th>CoralReefs</th>\n",
       "      <td>0.049467</td>\n",
       "      <td>1.000000</td>\n",
       "      <td>0.009480</td>\n",
       "      <td>0.001952</td>\n",
       "      <td>0.001923</td>\n",
       "      <td>0.004999</td>\n",
       "      <td>0.029432</td>\n",
       "      <td>0.022096</td>\n",
       "      <td>0.061027</td>\n",
       "      <td>0.002276</td>\n",
       "      <td>0.030965</td>\n",
       "      <td>0.017558</td>\n",
       "      <td>0.006324</td>\n",
       "      <td>0.010579</td>\n",
       "      <td>0.001518</td>\n",
       "      <td>0.039089</td>\n",
       "      <td>0.002707</td>\n",
       "      <td>0.011586</td>\n",
       "      <td>0.057514</td>\n",
       "      <td>0.267749</td>\n",
       "    </tr>\n",
       "    <tr>\n",
       "      <th>DescentofMan</th>\n",
       "      <td>0.080428</td>\n",
       "      <td>0.009480</td>\n",
       "      <td>1.000000</td>\n",
       "      <td>0.072761</td>\n",
       "      <td>0.029968</td>\n",
       "      <td>0.148670</td>\n",
       "      <td>0.027055</td>\n",
       "      <td>0.135775</td>\n",
       "      <td>0.009698</td>\n",
       "      <td>0.009404</td>\n",
       "      <td>0.059684</td>\n",
       "      <td>0.080314</td>\n",
       "      <td>0.053506</td>\n",
       "      <td>0.043275</td>\n",
       "      <td>0.005146</td>\n",
       "      <td>0.267554</td>\n",
       "      <td>0.011357</td>\n",
       "      <td>0.232841</td>\n",
       "      <td>0.007882</td>\n",
       "      <td>0.123917</td>\n",
       "    </tr>\n",
       "    <tr>\n",
       "      <th>DifferentFormsofFlowers</th>\n",
       "      <td>0.066482</td>\n",
       "      <td>0.001952</td>\n",
       "      <td>0.072761</td>\n",
       "      <td>1.000000</td>\n",
       "      <td>0.391834</td>\n",
       "      <td>0.006474</td>\n",
       "      <td>0.010585</td>\n",
       "      <td>0.040104</td>\n",
       "      <td>0.002846</td>\n",
       "      <td>0.007502</td>\n",
       "      <td>0.015933</td>\n",
       "      <td>0.046523</td>\n",
       "      <td>0.009405</td>\n",
       "      <td>0.005484</td>\n",
       "      <td>0.008151</td>\n",
       "      <td>0.128909</td>\n",
       "      <td>0.018964</td>\n",
       "      <td>0.050023</td>\n",
       "      <td>0.002611</td>\n",
       "      <td>0.013124</td>\n",
       "    </tr>\n",
       "    <tr>\n",
       "      <th>EffectsCrossSelfFertilization</th>\n",
       "      <td>0.077184</td>\n",
       "      <td>0.001923</td>\n",
       "      <td>0.029968</td>\n",
       "      <td>0.391834</td>\n",
       "      <td>1.000000</td>\n",
       "      <td>0.006844</td>\n",
       "      <td>0.032262</td>\n",
       "      <td>0.040288</td>\n",
       "      <td>0.002246</td>\n",
       "      <td>0.006777</td>\n",
       "      <td>0.019504</td>\n",
       "      <td>0.046504</td>\n",
       "      <td>0.003212</td>\n",
       "      <td>0.002962</td>\n",
       "      <td>0.014932</td>\n",
       "      <td>0.146441</td>\n",
       "      <td>0.039770</td>\n",
       "      <td>0.055132</td>\n",
       "      <td>0.002178</td>\n",
       "      <td>0.017140</td>\n",
       "    </tr>\n",
       "    <tr>\n",
       "      <th>ExpressionofEmotionManAnimals</th>\n",
       "      <td>0.088723</td>\n",
       "      <td>0.004999</td>\n",
       "      <td>0.148670</td>\n",
       "      <td>0.006474</td>\n",
       "      <td>0.006844</td>\n",
       "      <td>1.000000</td>\n",
       "      <td>0.020985</td>\n",
       "      <td>0.047202</td>\n",
       "      <td>0.005217</td>\n",
       "      <td>0.011475</td>\n",
       "      <td>0.064873</td>\n",
       "      <td>0.048886</td>\n",
       "      <td>0.016825</td>\n",
       "      <td>0.029897</td>\n",
       "      <td>0.005913</td>\n",
       "      <td>0.062979</td>\n",
       "      <td>0.011317</td>\n",
       "      <td>0.083847</td>\n",
       "      <td>0.005561</td>\n",
       "      <td>0.098961</td>\n",
       "    </tr>\n",
       "    <tr>\n",
       "      <th>FormationVegetableMould</th>\n",
       "      <td>0.040678</td>\n",
       "      <td>0.029432</td>\n",
       "      <td>0.027055</td>\n",
       "      <td>0.010585</td>\n",
       "      <td>0.032262</td>\n",
       "      <td>0.020985</td>\n",
       "      <td>1.000000</td>\n",
       "      <td>0.021470</td>\n",
       "      <td>0.067989</td>\n",
       "      <td>0.035589</td>\n",
       "      <td>0.027916</td>\n",
       "      <td>0.023620</td>\n",
       "      <td>0.019866</td>\n",
       "      <td>0.023984</td>\n",
       "      <td>0.038820</td>\n",
       "      <td>0.049259</td>\n",
       "      <td>0.040182</td>\n",
       "      <td>0.033147</td>\n",
       "      <td>0.059407</td>\n",
       "      <td>0.097908</td>\n",
       "    </tr>\n",
       "    <tr>\n",
       "      <th>FoundationsOriginofSpecies</th>\n",
       "      <td>0.059271</td>\n",
       "      <td>0.022096</td>\n",
       "      <td>0.135775</td>\n",
       "      <td>0.040104</td>\n",
       "      <td>0.040288</td>\n",
       "      <td>0.047202</td>\n",
       "      <td>0.021470</td>\n",
       "      <td>1.000000</td>\n",
       "      <td>0.028028</td>\n",
       "      <td>0.006023</td>\n",
       "      <td>0.057820</td>\n",
       "      <td>0.054782</td>\n",
       "      <td>0.007618</td>\n",
       "      <td>0.010883</td>\n",
       "      <td>0.003973</td>\n",
       "      <td>0.322405</td>\n",
       "      <td>0.008788</td>\n",
       "      <td>0.194533</td>\n",
       "      <td>0.017590</td>\n",
       "      <td>0.089132</td>\n",
       "    </tr>\n",
       "    <tr>\n",
       "      <th>GeologicalObservationsSouthAmerica</th>\n",
       "      <td>0.030562</td>\n",
       "      <td>0.061027</td>\n",
       "      <td>0.009698</td>\n",
       "      <td>0.002846</td>\n",
       "      <td>0.002246</td>\n",
       "      <td>0.005217</td>\n",
       "      <td>0.067989</td>\n",
       "      <td>0.028028</td>\n",
       "      <td>1.000000</td>\n",
       "      <td>0.006879</td>\n",
       "      <td>0.028551</td>\n",
       "      <td>0.012104</td>\n",
       "      <td>0.009687</td>\n",
       "      <td>0.024738</td>\n",
       "      <td>0.002043</td>\n",
       "      <td>0.058046</td>\n",
       "      <td>0.003491</td>\n",
       "      <td>0.014389</td>\n",
       "      <td>0.373249</td>\n",
       "      <td>0.260141</td>\n",
       "    </tr>\n",
       "    <tr>\n",
       "      <th>InsectivorousPlants</th>\n",
       "      <td>0.014878</td>\n",
       "      <td>0.002276</td>\n",
       "      <td>0.009404</td>\n",
       "      <td>0.007502</td>\n",
       "      <td>0.006777</td>\n",
       "      <td>0.011475</td>\n",
       "      <td>0.035589</td>\n",
       "      <td>0.006023</td>\n",
       "      <td>0.006879</td>\n",
       "      <td>1.000000</td>\n",
       "      <td>0.005967</td>\n",
       "      <td>0.016518</td>\n",
       "      <td>0.019214</td>\n",
       "      <td>0.020023</td>\n",
       "      <td>0.249814</td>\n",
       "      <td>0.014961</td>\n",
       "      <td>0.023056</td>\n",
       "      <td>0.010522</td>\n",
       "      <td>0.008544</td>\n",
       "      <td>0.014776</td>\n",
       "    </tr>\n",
       "    <tr>\n",
       "      <th>LifeandLettersVol1</th>\n",
       "      <td>0.396709</td>\n",
       "      <td>0.030965</td>\n",
       "      <td>0.059684</td>\n",
       "      <td>0.015933</td>\n",
       "      <td>0.019504</td>\n",
       "      <td>0.064873</td>\n",
       "      <td>0.027916</td>\n",
       "      <td>0.057820</td>\n",
       "      <td>0.028551</td>\n",
       "      <td>0.005967</td>\n",
       "      <td>1.000000</td>\n",
       "      <td>0.885828</td>\n",
       "      <td>0.005752</td>\n",
       "      <td>0.012772</td>\n",
       "      <td>0.005388</td>\n",
       "      <td>0.097457</td>\n",
       "      <td>0.009505</td>\n",
       "      <td>0.055259</td>\n",
       "      <td>0.026374</td>\n",
       "      <td>0.171708</td>\n",
       "    </tr>\n",
       "    <tr>\n",
       "      <th>LifeandLettersVol2</th>\n",
       "      <td>0.217129</td>\n",
       "      <td>0.017558</td>\n",
       "      <td>0.080314</td>\n",
       "      <td>0.046523</td>\n",
       "      <td>0.046504</td>\n",
       "      <td>0.048886</td>\n",
       "      <td>0.023620</td>\n",
       "      <td>0.054782</td>\n",
       "      <td>0.012104</td>\n",
       "      <td>0.016518</td>\n",
       "      <td>0.885828</td>\n",
       "      <td>1.000000</td>\n",
       "      <td>0.004967</td>\n",
       "      <td>0.010843</td>\n",
       "      <td>0.017565</td>\n",
       "      <td>0.096955</td>\n",
       "      <td>0.012099</td>\n",
       "      <td>0.050764</td>\n",
       "      <td>0.011806</td>\n",
       "      <td>0.089947</td>\n",
       "    </tr>\n",
       "    <tr>\n",
       "      <th>MonographCirripedia</th>\n",
       "      <td>0.005686</td>\n",
       "      <td>0.006324</td>\n",
       "      <td>0.053506</td>\n",
       "      <td>0.009405</td>\n",
       "      <td>0.003212</td>\n",
       "      <td>0.016825</td>\n",
       "      <td>0.019866</td>\n",
       "      <td>0.007618</td>\n",
       "      <td>0.009687</td>\n",
       "      <td>0.019214</td>\n",
       "      <td>0.005752</td>\n",
       "      <td>0.004967</td>\n",
       "      <td>1.000000</td>\n",
       "      <td>0.522273</td>\n",
       "      <td>0.012441</td>\n",
       "      <td>0.029902</td>\n",
       "      <td>0.018694</td>\n",
       "      <td>0.023460</td>\n",
       "      <td>0.010754</td>\n",
       "      <td>0.014342</td>\n",
       "    </tr>\n",
       "    <tr>\n",
       "      <th>MonographCirripediaVol2</th>\n",
       "      <td>0.008483</td>\n",
       "      <td>0.010579</td>\n",
       "      <td>0.043275</td>\n",
       "      <td>0.005484</td>\n",
       "      <td>0.002962</td>\n",
       "      <td>0.029897</td>\n",
       "      <td>0.023984</td>\n",
       "      <td>0.010883</td>\n",
       "      <td>0.024738</td>\n",
       "      <td>0.020023</td>\n",
       "      <td>0.012772</td>\n",
       "      <td>0.010843</td>\n",
       "      <td>0.522273</td>\n",
       "      <td>1.000000</td>\n",
       "      <td>0.006802</td>\n",
       "      <td>0.036755</td>\n",
       "      <td>0.022376</td>\n",
       "      <td>0.030669</td>\n",
       "      <td>0.017952</td>\n",
       "      <td>0.025047</td>\n",
       "    </tr>\n",
       "    <tr>\n",
       "      <th>MovementClimbingPlants</th>\n",
       "      <td>0.022856</td>\n",
       "      <td>0.001518</td>\n",
       "      <td>0.005146</td>\n",
       "      <td>0.008151</td>\n",
       "      <td>0.014932</td>\n",
       "      <td>0.005913</td>\n",
       "      <td>0.038820</td>\n",
       "      <td>0.003973</td>\n",
       "      <td>0.002043</td>\n",
       "      <td>0.249814</td>\n",
       "      <td>0.005388</td>\n",
       "      <td>0.017565</td>\n",
       "      <td>0.012441</td>\n",
       "      <td>0.006802</td>\n",
       "      <td>1.000000</td>\n",
       "      <td>0.008802</td>\n",
       "      <td>0.104966</td>\n",
       "      <td>0.011530</td>\n",
       "      <td>0.002832</td>\n",
       "      <td>0.012282</td>\n",
       "    </tr>\n",
       "    <tr>\n",
       "      <th>OriginofSpecies</th>\n",
       "      <td>0.099991</td>\n",
       "      <td>0.039089</td>\n",
       "      <td>0.267554</td>\n",
       "      <td>0.128909</td>\n",
       "      <td>0.146441</td>\n",
       "      <td>0.062979</td>\n",
       "      <td>0.049259</td>\n",
       "      <td>0.322405</td>\n",
       "      <td>0.058046</td>\n",
       "      <td>0.014961</td>\n",
       "      <td>0.097457</td>\n",
       "      <td>0.096955</td>\n",
       "      <td>0.029902</td>\n",
       "      <td>0.036755</td>\n",
       "      <td>0.008802</td>\n",
       "      <td>1.000000</td>\n",
       "      <td>0.018266</td>\n",
       "      <td>0.405333</td>\n",
       "      <td>0.036014</td>\n",
       "      <td>0.164661</td>\n",
       "    </tr>\n",
       "    <tr>\n",
       "      <th>PowerMovementPlants</th>\n",
       "      <td>0.016247</td>\n",
       "      <td>0.002707</td>\n",
       "      <td>0.011357</td>\n",
       "      <td>0.018964</td>\n",
       "      <td>0.039770</td>\n",
       "      <td>0.011317</td>\n",
       "      <td>0.040182</td>\n",
       "      <td>0.008788</td>\n",
       "      <td>0.003491</td>\n",
       "      <td>0.023056</td>\n",
       "      <td>0.009505</td>\n",
       "      <td>0.012099</td>\n",
       "      <td>0.018694</td>\n",
       "      <td>0.022376</td>\n",
       "      <td>0.104966</td>\n",
       "      <td>0.018266</td>\n",
       "      <td>1.000000</td>\n",
       "      <td>0.020589</td>\n",
       "      <td>0.003819</td>\n",
       "      <td>0.024149</td>\n",
       "    </tr>\n",
       "    <tr>\n",
       "      <th>VariationPlantsAnimalsDomestication</th>\n",
       "      <td>0.049018</td>\n",
       "      <td>0.011586</td>\n",
       "      <td>0.232841</td>\n",
       "      <td>0.050023</td>\n",
       "      <td>0.055132</td>\n",
       "      <td>0.083847</td>\n",
       "      <td>0.033147</td>\n",
       "      <td>0.194533</td>\n",
       "      <td>0.014389</td>\n",
       "      <td>0.010522</td>\n",
       "      <td>0.055259</td>\n",
       "      <td>0.050764</td>\n",
       "      <td>0.023460</td>\n",
       "      <td>0.030669</td>\n",
       "      <td>0.011530</td>\n",
       "      <td>0.405333</td>\n",
       "      <td>0.020589</td>\n",
       "      <td>1.000000</td>\n",
       "      <td>0.012620</td>\n",
       "      <td>0.114134</td>\n",
       "    </tr>\n",
       "    <tr>\n",
       "      <th>VolcanicIslands</th>\n",
       "      <td>0.038556</td>\n",
       "      <td>0.057514</td>\n",
       "      <td>0.007882</td>\n",
       "      <td>0.002611</td>\n",
       "      <td>0.002178</td>\n",
       "      <td>0.005561</td>\n",
       "      <td>0.059407</td>\n",
       "      <td>0.017590</td>\n",
       "      <td>0.373249</td>\n",
       "      <td>0.008544</td>\n",
       "      <td>0.026374</td>\n",
       "      <td>0.011806</td>\n",
       "      <td>0.010754</td>\n",
       "      <td>0.017952</td>\n",
       "      <td>0.002832</td>\n",
       "      <td>0.036014</td>\n",
       "      <td>0.003819</td>\n",
       "      <td>0.012620</td>\n",
       "      <td>1.000000</td>\n",
       "      <td>0.138323</td>\n",
       "    </tr>\n",
       "    <tr>\n",
       "      <th>VoyageBeagle</th>\n",
       "      <td>0.183507</td>\n",
       "      <td>0.267749</td>\n",
       "      <td>0.123917</td>\n",
       "      <td>0.013124</td>\n",
       "      <td>0.017140</td>\n",
       "      <td>0.098961</td>\n",
       "      <td>0.097908</td>\n",
       "      <td>0.089132</td>\n",
       "      <td>0.260141</td>\n",
       "      <td>0.014776</td>\n",
       "      <td>0.171708</td>\n",
       "      <td>0.089947</td>\n",
       "      <td>0.014342</td>\n",
       "      <td>0.025047</td>\n",
       "      <td>0.012282</td>\n",
       "      <td>0.164661</td>\n",
       "      <td>0.024149</td>\n",
       "      <td>0.114134</td>\n",
       "      <td>0.138323</td>\n",
       "      <td>1.000000</td>\n",
       "    </tr>\n",
       "  </tbody>\n",
       "</table>\n",
       "</div>"
      ],
      "text/plain": [
       "                                     Autobiography  CoralReefs  DescentofMan  \\\n",
       "Autobiography                             1.000000    0.049467      0.080428   \n",
       "CoralReefs                                0.049467    1.000000      0.009480   \n",
       "DescentofMan                              0.080428    0.009480      1.000000   \n",
       "DifferentFormsofFlowers                   0.066482    0.001952      0.072761   \n",
       "EffectsCrossSelfFertilization             0.077184    0.001923      0.029968   \n",
       "ExpressionofEmotionManAnimals             0.088723    0.004999      0.148670   \n",
       "FormationVegetableMould                   0.040678    0.029432      0.027055   \n",
       "FoundationsOriginofSpecies                0.059271    0.022096      0.135775   \n",
       "GeologicalObservationsSouthAmerica        0.030562    0.061027      0.009698   \n",
       "InsectivorousPlants                       0.014878    0.002276      0.009404   \n",
       "LifeandLettersVol1                        0.396709    0.030965      0.059684   \n",
       "LifeandLettersVol2                        0.217129    0.017558      0.080314   \n",
       "MonographCirripedia                       0.005686    0.006324      0.053506   \n",
       "MonographCirripediaVol2                   0.008483    0.010579      0.043275   \n",
       "MovementClimbingPlants                    0.022856    0.001518      0.005146   \n",
       "OriginofSpecies                           0.099991    0.039089      0.267554   \n",
       "PowerMovementPlants                       0.016247    0.002707      0.011357   \n",
       "VariationPlantsAnimalsDomestication       0.049018    0.011586      0.232841   \n",
       "VolcanicIslands                           0.038556    0.057514      0.007882   \n",
       "VoyageBeagle                              0.183507    0.267749      0.123917   \n",
       "\n",
       "                                     DifferentFormsofFlowers  \\\n",
       "Autobiography                                       0.066482   \n",
       "CoralReefs                                          0.001952   \n",
       "DescentofMan                                        0.072761   \n",
       "DifferentFormsofFlowers                             1.000000   \n",
       "EffectsCrossSelfFertilization                       0.391834   \n",
       "ExpressionofEmotionManAnimals                       0.006474   \n",
       "FormationVegetableMould                             0.010585   \n",
       "FoundationsOriginofSpecies                          0.040104   \n",
       "GeologicalObservationsSouthAmerica                  0.002846   \n",
       "InsectivorousPlants                                 0.007502   \n",
       "LifeandLettersVol1                                  0.015933   \n",
       "LifeandLettersVol2                                  0.046523   \n",
       "MonographCirripedia                                 0.009405   \n",
       "MonographCirripediaVol2                             0.005484   \n",
       "MovementClimbingPlants                              0.008151   \n",
       "OriginofSpecies                                     0.128909   \n",
       "PowerMovementPlants                                 0.018964   \n",
       "VariationPlantsAnimalsDomestication                 0.050023   \n",
       "VolcanicIslands                                     0.002611   \n",
       "VoyageBeagle                                        0.013124   \n",
       "\n",
       "                                     EffectsCrossSelfFertilization  \\\n",
       "Autobiography                                             0.077184   \n",
       "CoralReefs                                                0.001923   \n",
       "DescentofMan                                              0.029968   \n",
       "DifferentFormsofFlowers                                   0.391834   \n",
       "EffectsCrossSelfFertilization                             1.000000   \n",
       "ExpressionofEmotionManAnimals                             0.006844   \n",
       "FormationVegetableMould                                   0.032262   \n",
       "FoundationsOriginofSpecies                                0.040288   \n",
       "GeologicalObservationsSouthAmerica                        0.002246   \n",
       "InsectivorousPlants                                       0.006777   \n",
       "LifeandLettersVol1                                        0.019504   \n",
       "LifeandLettersVol2                                        0.046504   \n",
       "MonographCirripedia                                       0.003212   \n",
       "MonographCirripediaVol2                                   0.002962   \n",
       "MovementClimbingPlants                                    0.014932   \n",
       "OriginofSpecies                                           0.146441   \n",
       "PowerMovementPlants                                       0.039770   \n",
       "VariationPlantsAnimalsDomestication                       0.055132   \n",
       "VolcanicIslands                                           0.002178   \n",
       "VoyageBeagle                                              0.017140   \n",
       "\n",
       "                                     ExpressionofEmotionManAnimals  \\\n",
       "Autobiography                                             0.088723   \n",
       "CoralReefs                                                0.004999   \n",
       "DescentofMan                                              0.148670   \n",
       "DifferentFormsofFlowers                                   0.006474   \n",
       "EffectsCrossSelfFertilization                             0.006844   \n",
       "ExpressionofEmotionManAnimals                             1.000000   \n",
       "FormationVegetableMould                                   0.020985   \n",
       "FoundationsOriginofSpecies                                0.047202   \n",
       "GeologicalObservationsSouthAmerica                        0.005217   \n",
       "InsectivorousPlants                                       0.011475   \n",
       "LifeandLettersVol1                                        0.064873   \n",
       "LifeandLettersVol2                                        0.048886   \n",
       "MonographCirripedia                                       0.016825   \n",
       "MonographCirripediaVol2                                   0.029897   \n",
       "MovementClimbingPlants                                    0.005913   \n",
       "OriginofSpecies                                           0.062979   \n",
       "PowerMovementPlants                                       0.011317   \n",
       "VariationPlantsAnimalsDomestication                       0.083847   \n",
       "VolcanicIslands                                           0.005561   \n",
       "VoyageBeagle                                              0.098961   \n",
       "\n",
       "                                     FormationVegetableMould  \\\n",
       "Autobiography                                       0.040678   \n",
       "CoralReefs                                          0.029432   \n",
       "DescentofMan                                        0.027055   \n",
       "DifferentFormsofFlowers                             0.010585   \n",
       "EffectsCrossSelfFertilization                       0.032262   \n",
       "ExpressionofEmotionManAnimals                       0.020985   \n",
       "FormationVegetableMould                             1.000000   \n",
       "FoundationsOriginofSpecies                          0.021470   \n",
       "GeologicalObservationsSouthAmerica                  0.067989   \n",
       "InsectivorousPlants                                 0.035589   \n",
       "LifeandLettersVol1                                  0.027916   \n",
       "LifeandLettersVol2                                  0.023620   \n",
       "MonographCirripedia                                 0.019866   \n",
       "MonographCirripediaVol2                             0.023984   \n",
       "MovementClimbingPlants                              0.038820   \n",
       "OriginofSpecies                                     0.049259   \n",
       "PowerMovementPlants                                 0.040182   \n",
       "VariationPlantsAnimalsDomestication                 0.033147   \n",
       "VolcanicIslands                                     0.059407   \n",
       "VoyageBeagle                                        0.097908   \n",
       "\n",
       "                                     FoundationsOriginofSpecies  \\\n",
       "Autobiography                                          0.059271   \n",
       "CoralReefs                                             0.022096   \n",
       "DescentofMan                                           0.135775   \n",
       "DifferentFormsofFlowers                                0.040104   \n",
       "EffectsCrossSelfFertilization                          0.040288   \n",
       "ExpressionofEmotionManAnimals                          0.047202   \n",
       "FormationVegetableMould                                0.021470   \n",
       "FoundationsOriginofSpecies                             1.000000   \n",
       "GeologicalObservationsSouthAmerica                     0.028028   \n",
       "InsectivorousPlants                                    0.006023   \n",
       "LifeandLettersVol1                                     0.057820   \n",
       "LifeandLettersVol2                                     0.054782   \n",
       "MonographCirripedia                                    0.007618   \n",
       "MonographCirripediaVol2                                0.010883   \n",
       "MovementClimbingPlants                                 0.003973   \n",
       "OriginofSpecies                                        0.322405   \n",
       "PowerMovementPlants                                    0.008788   \n",
       "VariationPlantsAnimalsDomestication                    0.194533   \n",
       "VolcanicIslands                                        0.017590   \n",
       "VoyageBeagle                                           0.089132   \n",
       "\n",
       "                                     GeologicalObservationsSouthAmerica  \\\n",
       "Autobiography                                                  0.030562   \n",
       "CoralReefs                                                     0.061027   \n",
       "DescentofMan                                                   0.009698   \n",
       "DifferentFormsofFlowers                                        0.002846   \n",
       "EffectsCrossSelfFertilization                                  0.002246   \n",
       "ExpressionofEmotionManAnimals                                  0.005217   \n",
       "FormationVegetableMould                                        0.067989   \n",
       "FoundationsOriginofSpecies                                     0.028028   \n",
       "GeologicalObservationsSouthAmerica                             1.000000   \n",
       "InsectivorousPlants                                            0.006879   \n",
       "LifeandLettersVol1                                             0.028551   \n",
       "LifeandLettersVol2                                             0.012104   \n",
       "MonographCirripedia                                            0.009687   \n",
       "MonographCirripediaVol2                                        0.024738   \n",
       "MovementClimbingPlants                                         0.002043   \n",
       "OriginofSpecies                                                0.058046   \n",
       "PowerMovementPlants                                            0.003491   \n",
       "VariationPlantsAnimalsDomestication                            0.014389   \n",
       "VolcanicIslands                                                0.373249   \n",
       "VoyageBeagle                                                   0.260141   \n",
       "\n",
       "                                     InsectivorousPlants  LifeandLettersVol1  \\\n",
       "Autobiography                                   0.014878            0.396709   \n",
       "CoralReefs                                      0.002276            0.030965   \n",
       "DescentofMan                                    0.009404            0.059684   \n",
       "DifferentFormsofFlowers                         0.007502            0.015933   \n",
       "EffectsCrossSelfFertilization                   0.006777            0.019504   \n",
       "ExpressionofEmotionManAnimals                   0.011475            0.064873   \n",
       "FormationVegetableMould                         0.035589            0.027916   \n",
       "FoundationsOriginofSpecies                      0.006023            0.057820   \n",
       "GeologicalObservationsSouthAmerica              0.006879            0.028551   \n",
       "InsectivorousPlants                             1.000000            0.005967   \n",
       "LifeandLettersVol1                              0.005967            1.000000   \n",
       "LifeandLettersVol2                              0.016518            0.885828   \n",
       "MonographCirripedia                             0.019214            0.005752   \n",
       "MonographCirripediaVol2                         0.020023            0.012772   \n",
       "MovementClimbingPlants                          0.249814            0.005388   \n",
       "OriginofSpecies                                 0.014961            0.097457   \n",
       "PowerMovementPlants                             0.023056            0.009505   \n",
       "VariationPlantsAnimalsDomestication             0.010522            0.055259   \n",
       "VolcanicIslands                                 0.008544            0.026374   \n",
       "VoyageBeagle                                    0.014776            0.171708   \n",
       "\n",
       "                                     LifeandLettersVol2  MonographCirripedia  \\\n",
       "Autobiography                                  0.217129             0.005686   \n",
       "CoralReefs                                     0.017558             0.006324   \n",
       "DescentofMan                                   0.080314             0.053506   \n",
       "DifferentFormsofFlowers                        0.046523             0.009405   \n",
       "EffectsCrossSelfFertilization                  0.046504             0.003212   \n",
       "ExpressionofEmotionManAnimals                  0.048886             0.016825   \n",
       "FormationVegetableMould                        0.023620             0.019866   \n",
       "FoundationsOriginofSpecies                     0.054782             0.007618   \n",
       "GeologicalObservationsSouthAmerica             0.012104             0.009687   \n",
       "InsectivorousPlants                            0.016518             0.019214   \n",
       "LifeandLettersVol1                             0.885828             0.005752   \n",
       "LifeandLettersVol2                             1.000000             0.004967   \n",
       "MonographCirripedia                            0.004967             1.000000   \n",
       "MonographCirripediaVol2                        0.010843             0.522273   \n",
       "MovementClimbingPlants                         0.017565             0.012441   \n",
       "OriginofSpecies                                0.096955             0.029902   \n",
       "PowerMovementPlants                            0.012099             0.018694   \n",
       "VariationPlantsAnimalsDomestication            0.050764             0.023460   \n",
       "VolcanicIslands                                0.011806             0.010754   \n",
       "VoyageBeagle                                   0.089947             0.014342   \n",
       "\n",
       "                                     MonographCirripediaVol2  \\\n",
       "Autobiography                                       0.008483   \n",
       "CoralReefs                                          0.010579   \n",
       "DescentofMan                                        0.043275   \n",
       "DifferentFormsofFlowers                             0.005484   \n",
       "EffectsCrossSelfFertilization                       0.002962   \n",
       "ExpressionofEmotionManAnimals                       0.029897   \n",
       "FormationVegetableMould                             0.023984   \n",
       "FoundationsOriginofSpecies                          0.010883   \n",
       "GeologicalObservationsSouthAmerica                  0.024738   \n",
       "InsectivorousPlants                                 0.020023   \n",
       "LifeandLettersVol1                                  0.012772   \n",
       "LifeandLettersVol2                                  0.010843   \n",
       "MonographCirripedia                                 0.522273   \n",
       "MonographCirripediaVol2                             1.000000   \n",
       "MovementClimbingPlants                              0.006802   \n",
       "OriginofSpecies                                     0.036755   \n",
       "PowerMovementPlants                                 0.022376   \n",
       "VariationPlantsAnimalsDomestication                 0.030669   \n",
       "VolcanicIslands                                     0.017952   \n",
       "VoyageBeagle                                        0.025047   \n",
       "\n",
       "                                     MovementClimbingPlants  OriginofSpecies  \\\n",
       "Autobiography                                      0.022856         0.099991   \n",
       "CoralReefs                                         0.001518         0.039089   \n",
       "DescentofMan                                       0.005146         0.267554   \n",
       "DifferentFormsofFlowers                            0.008151         0.128909   \n",
       "EffectsCrossSelfFertilization                      0.014932         0.146441   \n",
       "ExpressionofEmotionManAnimals                      0.005913         0.062979   \n",
       "FormationVegetableMould                            0.038820         0.049259   \n",
       "FoundationsOriginofSpecies                         0.003973         0.322405   \n",
       "GeologicalObservationsSouthAmerica                 0.002043         0.058046   \n",
       "InsectivorousPlants                                0.249814         0.014961   \n",
       "LifeandLettersVol1                                 0.005388         0.097457   \n",
       "LifeandLettersVol2                                 0.017565         0.096955   \n",
       "MonographCirripedia                                0.012441         0.029902   \n",
       "MonographCirripediaVol2                            0.006802         0.036755   \n",
       "MovementClimbingPlants                             1.000000         0.008802   \n",
       "OriginofSpecies                                    0.008802         1.000000   \n",
       "PowerMovementPlants                                0.104966         0.018266   \n",
       "VariationPlantsAnimalsDomestication                0.011530         0.405333   \n",
       "VolcanicIslands                                    0.002832         0.036014   \n",
       "VoyageBeagle                                       0.012282         0.164661   \n",
       "\n",
       "                                     PowerMovementPlants  \\\n",
       "Autobiography                                   0.016247   \n",
       "CoralReefs                                      0.002707   \n",
       "DescentofMan                                    0.011357   \n",
       "DifferentFormsofFlowers                         0.018964   \n",
       "EffectsCrossSelfFertilization                   0.039770   \n",
       "ExpressionofEmotionManAnimals                   0.011317   \n",
       "FormationVegetableMould                         0.040182   \n",
       "FoundationsOriginofSpecies                      0.008788   \n",
       "GeologicalObservationsSouthAmerica              0.003491   \n",
       "InsectivorousPlants                             0.023056   \n",
       "LifeandLettersVol1                              0.009505   \n",
       "LifeandLettersVol2                              0.012099   \n",
       "MonographCirripedia                             0.018694   \n",
       "MonographCirripediaVol2                         0.022376   \n",
       "MovementClimbingPlants                          0.104966   \n",
       "OriginofSpecies                                 0.018266   \n",
       "PowerMovementPlants                             1.000000   \n",
       "VariationPlantsAnimalsDomestication             0.020589   \n",
       "VolcanicIslands                                 0.003819   \n",
       "VoyageBeagle                                    0.024149   \n",
       "\n",
       "                                     VariationPlantsAnimalsDomestication  \\\n",
       "Autobiography                                                   0.049018   \n",
       "CoralReefs                                                      0.011586   \n",
       "DescentofMan                                                    0.232841   \n",
       "DifferentFormsofFlowers                                         0.050023   \n",
       "EffectsCrossSelfFertilization                                   0.055132   \n",
       "ExpressionofEmotionManAnimals                                   0.083847   \n",
       "FormationVegetableMould                                         0.033147   \n",
       "FoundationsOriginofSpecies                                      0.194533   \n",
       "GeologicalObservationsSouthAmerica                              0.014389   \n",
       "InsectivorousPlants                                             0.010522   \n",
       "LifeandLettersVol1                                              0.055259   \n",
       "LifeandLettersVol2                                              0.050764   \n",
       "MonographCirripedia                                             0.023460   \n",
       "MonographCirripediaVol2                                         0.030669   \n",
       "MovementClimbingPlants                                          0.011530   \n",
       "OriginofSpecies                                                 0.405333   \n",
       "PowerMovementPlants                                             0.020589   \n",
       "VariationPlantsAnimalsDomestication                             1.000000   \n",
       "VolcanicIslands                                                 0.012620   \n",
       "VoyageBeagle                                                    0.114134   \n",
       "\n",
       "                                     VolcanicIslands  VoyageBeagle  \n",
       "Autobiography                               0.038556      0.183507  \n",
       "CoralReefs                                  0.057514      0.267749  \n",
       "DescentofMan                                0.007882      0.123917  \n",
       "DifferentFormsofFlowers                     0.002611      0.013124  \n",
       "EffectsCrossSelfFertilization               0.002178      0.017140  \n",
       "ExpressionofEmotionManAnimals               0.005561      0.098961  \n",
       "FormationVegetableMould                     0.059407      0.097908  \n",
       "FoundationsOriginofSpecies                  0.017590      0.089132  \n",
       "GeologicalObservationsSouthAmerica          0.373249      0.260141  \n",
       "InsectivorousPlants                         0.008544      0.014776  \n",
       "LifeandLettersVol1                          0.026374      0.171708  \n",
       "LifeandLettersVol2                          0.011806      0.089947  \n",
       "MonographCirripedia                         0.010754      0.014342  \n",
       "MonographCirripediaVol2                     0.017952      0.025047  \n",
       "MovementClimbingPlants                      0.002832      0.012282  \n",
       "OriginofSpecies                             0.036014      0.164661  \n",
       "PowerMovementPlants                         0.003819      0.024149  \n",
       "VariationPlantsAnimalsDomestication         0.012620      0.114134  \n",
       "VolcanicIslands                             1.000000      0.138323  \n",
       "VoyageBeagle                                0.138323      1.000000  "
      ]
     },
     "execution_count": 10,
     "metadata": {},
     "output_type": "execute_result"
    }
   ],
   "source": [
    "# Load the library allowing similarity computations\n",
    "from gensim import similarities\n",
    "\n",
    "# Compute the similarity matrix (pairwise distance between all texts)\n",
    "sims = similarities.MatrixSimilarity(model[bows])\n",
    "\n",
    "# Transform the resulting list into a dataframe\n",
    "sim_df = pd.DataFrame(list(sims), index=titles)\n",
    "\n",
    "# Add the titles of the books as columns and index of the dataframe\n",
    "sim_df.columns = titles \n",
    "\n",
    "# Print the resulting matrix\n",
    "sim_df"
   ]
  },
  {
   "cell_type": "markdown",
   "metadata": {
    "dc": {
     "key": "73"
    },
    "deletable": false,
    "editable": false,
    "run_control": {
     "frozen": true
    },
    "tags": [
     "context"
    ]
   },
   "source": [
    "## 11. The book most similar to \"On the Origin of Species\"\n",
    "<p>We now have a matrix containing all the similarity measures between any pair of books from Charles Darwin! We can now use this matrix to quickly extract the information we need, i.e., the distance between one book and one or several others. </p>\n",
    "<p>As a first step, we will display which books are the most similar to \"<em>On the Origin of Species</em>,\" more specifically we will produce a bar chart showing all books ranked by how similar they are to Darwin's landmark work.</p>"
   ]
  },
  {
   "cell_type": "code",
   "execution_count": 11,
   "metadata": {
    "dc": {
     "key": "73"
    },
    "tags": [
     "sample_code"
    ]
   },
   "outputs": [
    {
     "data": {
      "image/png": "[encoded data removed]",
      "text/plain": [
       "<matplotlib.figure.Figure at 0x7fc514e60d30>"
      ]
     },
     "metadata": {},
     "output_type": "display_data"
    }
   ],
   "source": [
    "# This is needed to display plots in a notebook\n",
    "%matplotlib inline\n",
    "\n",
    "# Import libraries\n",
    "import matplotlib.pyplot as plt\n",
    "\n",
    "# Select the column corresponding to \"On the Origin of Species\" and \n",
    "v = sim_df[['OriginofSpecies']]\n",
    "\n",
    "# Sort by ascending scores\n",
    "v_sorted = v.sort_values('OriginofSpecies')\n",
    "\n",
    "# Plot this data has a horizontal bar plot\n",
    "v_sorted.plot.barh().plot()\n",
    "\n",
    "# Modify the axes labels and plot title for a better readability\n",
    "plt.xlabel('Book Title')\n",
    "plt.ylabel('Similarity')\n",
    "plt.title('Similarity plot')\n",
    "plt.legend(loc='lower right')\n",
    "plt.show()"
   ]
  },
  {
   "cell_type": "markdown",
   "metadata": {
    "dc": {
     "key": "80"
    },
    "deletable": false,
    "editable": false,
    "run_control": {
     "frozen": true
    },
    "tags": [
     "context"
    ]
   },
   "source": [
    "## 12. Which books have similar content?\n",
    "<p>This turns out to be extremely useful if we want to determine a given book's most similar work. For example, we have just seen that if you enjoyed \"<em>On the Origin of Species</em>,\" you can read books discussing similar concepts such as \"<em>The Variation of Animals and Plants under Domestication</em>\" or \"<em>The Descent of Man, and Selection in Relation to Sex</em>.\" If you are familiar with Darwin's work, these suggestions will likely seem natural to you. Indeed, <em>On the Origin of Species</em> has a whole chapter about domestication and <em>The Descent of Man, and Selection in Relation to Sex</em> applies the theory of natural selection to human evolution. Hence, the results make sense.</p>\n",
    "<p>However, we now want to have a better understanding of the big picture and see how Darwin's books are generally related to each other (in terms of topics discussed). To this purpose, we will represent the whole similarity matrix as a dendrogram, which is a standard tool to display such data. <strong>This last approach will display all the information about book similarities at once.</strong> For example, we can find a book's closest relative but, also, we can visualize which groups of books have similar topics (e.g., the cluster about Charles Darwin personal life with his autobiography and letters). If you are familiar with Darwin's bibliography, the results should not surprise you too much, which indicates the method gives good results. Otherwise, next time you read one of the author's book, you will know which other books to read next in order to learn more about the topics it addressed.</p>"
   ]
  },
  {
   "cell_type": "code",
   "execution_count": 12,
   "metadata": {
    "dc": {
     "key": "80"
    },
    "tags": [
     "sample_code"
    ]
   },
   "outputs": [
    {
     "data": {
      "image/png": "[encoded data removed]",
      "text/plain": [
       "<matplotlib.figure.Figure at 0x7fc51d4a9b38>"
      ]
     },
     "metadata": {},
     "output_type": "display_data"
    }
   ],
   "source": [
    "# Import libraries\n",
    "from scipy.cluster import hierarchy\n",
    "\n",
    "# Compute the clusters from the similarity matrix,\n",
    "# using the Ward variance minimization algorithm\n",
    "Z = hierarchy.linkage(sim_df, 'ward')\n",
    "\n",
    "# Display this result as a horizontal dendrogram\n",
    "dend = hierarchy.dendrogram(Z, leaf_font_size=8, labels=sim_df.index, orientation=\"left\")"
   ]
  }
 ],
 "metadata": {
  "kernelspec": {
   "display_name": "Python 3",
   "language": "python",
   "name": "python3"
  },
  "language_info": {
   "codemirror_mode": {
    "name": "ipython",
    "version": 3
   },
   "file_extension": ".py",
   "mimetype": "text/x-python",
   "name": "python",
   "nbconvert_exporter": "python",
   "pygments_lexer": "ipython3",
   "version": "3.6.4"
  }
 },
 "nbformat": 4,
 "nbformat_minor": 2
}
